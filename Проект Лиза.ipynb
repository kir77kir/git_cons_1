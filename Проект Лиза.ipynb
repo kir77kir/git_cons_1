{
 "cells": [
  {
   "cell_type": "markdown",
   "metadata": {
    "id": "OZrAKUzaf-VR"
   },
   "source": [
    "#Реализация метода ближайших соседей и кросс-валидации"
   ]
  },
  {
   "cell_type": "code",
   "execution_count": 1,
   "metadata": {
    "id": "zPkeEZtCcKgO"
   },
   "outputs": [],
   "source": [
    "import numpy as np\n",
    "from sklearn.neighbors import NearestNeighbors"
   ]
  },
  {
   "cell_type": "markdown",
   "metadata": {
    "id": "NQREqspukXFZ"
   },
   "source": [
    "Реализация функции для вычисления расстояния:\n",
    "- `euclidean_distance(X, Y)` — реализация евклидова расстояния с заданными свойствами;\n",
    "- `cosine_distance(X, Y)` — реализация косинусного расстояния с заданными свойствами;"
   ]
  },
  {
   "cell_type": "code",
   "execution_count": 2,
   "metadata": {
    "id": "v2Fg-GKlepYE"
   },
   "outputs": [],
   "source": [
    "def euclidean_distance(X, Y):\n",
    "    output = np.sqrt(np.subtract(np.add.outer(np.sum(X ** 2, axis=1), np.sum(Y ** 2, axis=1)), 2 * np.dot(X, Y.T)))\n",
    "    return output\n",
    "\n",
    "\n",
    "def cosine_distance(X, Y):\n",
    "    output = X.dot(Y.T) / ((np.sqrt(np.sum(X ** 2, axis=1))).reshape((-1, 1)) * np.sqrt(np.sum(Y ** 2, axis=1)))\n",
    "    return 1 - output"
   ]
  },
  {
   "cell_type": "markdown",
   "metadata": {
    "id": "N26wwxn_j_g-"
   },
   "source": [
    "Класс `NearestNeighborsFinder` с методами:\n",
    "- `__init__(self, n_neighbors, metric=\"euclidean\")` — конструктор (инициализатор) класса;\n",
    "- `fit(self, X, y=None)` — обучение алгоритма;\n",
    "- `kneighbors(self, X, return_distance=False)` — поиск ближайших соседей.\n"
   ]
  },
  {
   "cell_type": "code",
   "execution_count": 3,
   "metadata": {
    "id": "FN0muraRepd4"
   },
   "outputs": [],
   "source": [
    "class NearestNeighborsFinder:\n",
    "    def __init__(self, n_neighbors, metric=\"euclidean\"):\n",
    "        self.n_neighbors = n_neighbors\n",
    "\n",
    "        if metric == \"euclidean\":\n",
    "            self._metric_func = euclidean_distance\n",
    "        elif metric == \"cosine\":\n",
    "            self._metric_func = cosine_distance\n",
    "        else:\n",
    "            raise ValueError(\"Metric is not supported\", metric)\n",
    "        self.metric = metric\n",
    "\n",
    "    def fit(self, X, y=None):\n",
    "        self._X = X\n",
    "        return self\n",
    "\n",
    "    def kneighbors(self, X, return_distance=False):\n",
    "        dists = self._metric_func(X, self._X)\n",
    "        knns = np.argpartition(dists, self.n_neighbors, axis=1)\n",
    "        dists = np.partition(dists, self.n_neighbors, axis=1)\n",
    "        dists = dists[:, :self.n_neighbors]\n",
    "        knns = knns[:, :self.n_neighbors]\n",
    "        knns = np.take_along_axis(knns, np.argsort(dists, axis=1), axis=1)\n",
    "        if return_distance:\n",
    "            return np.sort(dists, axis=1), knns\n",
    "        return knns"
   ]
  },
  {
   "cell_type": "markdown",
   "metadata": {
    "id": "qCdw6Wvminwe"
   },
   "source": [
    "Класс `KNNClassifier` с методами:\n",
    "    \n",
    "- `__init__(self, n_neighbors, algorithm=’my_own’, metric=’euclidean’, weights=’uniform’)` — конструктор (инициализатор) класса;\n",
    "- `fit(self, X, y=None)` — обучение алгоритма;\n",
    "- `kneighbors(self, X, return_distance=False)` — поиск ближайших соседей;\n",
    "- `predict(self, X)` — редсказание на новых данных;\n",
    "- `_predict_precomputed(self, indices, distances)` — вспомогательный метод."
   ]
  },
  {
   "cell_type": "code",
   "execution_count": 4,
   "metadata": {
    "id": "S2065YLtepg1"
   },
   "outputs": [],
   "source": [
    "class KNNClassifier:\n",
    "    EPS = 1e-5\n",
    "\n",
    "    def __init__(self, n_neighbors, algorithm='my_own', metric='euclidean', weights='uniform'):\n",
    "        if algorithm == 'my_own':\n",
    "            finder = NearestNeighborsFinder(n_neighbors=n_neighbors, metric=metric)\n",
    "        elif algorithm in ('brute', 'ball_tree', 'kd_tree',):\n",
    "            finder = NearestNeighbors(n_neighbors=n_neighbors, algorithm=algorithm, metric=metric)\n",
    "        else:\n",
    "            raise ValueError(\"Algorithm is not supported\", metric)\n",
    "\n",
    "        if weights not in ('uniform', 'distance'):\n",
    "            raise ValueError(\"Weighted algorithm is not supported\", weights)\n",
    "\n",
    "        self._finder = finder\n",
    "        self._weights = weights\n",
    "\n",
    "    def fit(self, X, y=None):\n",
    "        self._finder.fit(X)\n",
    "        self._labels = np.asarray(y)\n",
    "        return self\n",
    "\n",
    "    def _predict_precomputed(self, indices, distances):\n",
    "        if self._weights == 'uniform':\n",
    "            weights = np.ones((distances.shape[0], distances.shape[1]))\n",
    "        else:\n",
    "            weights = 1 / (distances + self.EPS)\n",
    "        distinct_labels = np.array(list(set(self._labels)))\n",
    "        neigh_labels = self._labels[indices]\n",
    "        weighted_scores = ((neigh_labels[:, :, np.newaxis] == distinct_labels) *\n",
    "                           weights[:, :, np.newaxis]).sum(axis=1)\n",
    "        return distinct_labels[weighted_scores.argmax(axis=1)]\n",
    "\n",
    "    def kneighbors(self, X, return_distance=False):\n",
    "        return self._finder.kneighbors(X, return_distance=return_distance)\n",
    "\n",
    "    def predict(self, X):\n",
    "        distances, indices = self.kneighbors(X, return_distance=True)\n",
    "        return self._predict_precomputed(indices, distances)"
   ]
  },
  {
   "cell_type": "markdown",
   "metadata": {
    "id": "bEqL_cfLh-e1"
   },
   "source": [
    "Класс `BatchedKNNClassifier`с методами:\n",
    "   \n",
    "- `kneighbors(self, X, return_distance=False)` — поиск ближайших соседей, разбитый на несколько итераций по батчам"
   ]
  },
  {
   "cell_type": "code",
   "execution_count": 5,
   "metadata": {
    "id": "j0rHoOu7epjW"
   },
   "outputs": [],
   "source": [
    "class BatchedKNNClassifier(KNNClassifier):\n",
    "    '''\n",
    "    Нам нужен этот класс, потому что мы хотим поддержку обработки батчами\n",
    "    в том числе для классов поиска соседей из sklearn\n",
    "    '''\n",
    "\n",
    "    def __init__(self, n_neighbors, algorithm='my_own', metric='euclidean', weights='uniform', batch_size=None):\n",
    "        KNNClassifier.__init__(\n",
    "            self,\n",
    "            n_neighbors=n_neighbors,\n",
    "            algorithm=algorithm,\n",
    "            weights=weights,\n",
    "            metric=metric,\n",
    "        )\n",
    "        self._batch_size = batch_size\n",
    "\n",
    "    def kneighbors(self, X, return_distance=False):\n",
    "        if self._batch_size is None or self._batch_size >= X.shape[0]:\n",
    "            return super().kneighbors(X, return_distance=return_distance)\n",
    "        else:\n",
    "            if return_distance:\n",
    "                dists = []\n",
    "                indexes = []\n",
    "                for i_min in range(0, X.shape[0], self._batch_size):\n",
    "                    i_max = min(i_min + self._batch_size, X.shape[0])\n",
    "                    dist, ind = super().kneighbors(X[i_min:i_max], return_distance=return_distance)\n",
    "                    dists.append(dist)\n",
    "                    indexes.append(ind)\n",
    "                return np.vstack(dists), np.vstack(indexes)\n",
    "            else:\n",
    "                indexes = []\n",
    "                for i_min in range(0, X.shape[0], self._batch_size):\n",
    "                    i_max = min(i_min + self._batch_size, X.shape[0])\n",
    "                    ind = super().kneighbors(X[i_min:i_max], return_distance=return_distance)\n",
    "                    indexes.append(ind)\n",
    "                return np.vstack(indexes)"
   ]
  },
  {
   "cell_type": "markdown",
   "metadata": {
    "id": "e_1l_TDkgu7P"
   },
   "source": [
    "\n",
    "\n",
    "`\n",
    "knn_cross_val_score*(X, y, k_list, scoring, cv=None, **kwargs)\n",
    "` — функция для измерения качества на кросс-валидации"
   ]
  },
  {
   "cell_type": "code",
   "execution_count": 6,
   "metadata": {
    "id": "ZLiBF5hvepm1"
   },
   "outputs": [],
   "source": [
    "from collections import defaultdict\n",
    "from sklearn.model_selection import KFold, BaseCrossValidator\n",
    "from sklearn.metrics import accuracy_score\n",
    "import numpy as np\n",
    "\n",
    "\n",
    "def knn_cross_val_score(X, y, k_list, scoring, cv=None, **kwargs):\n",
    "    y = np.asarray(y)\n",
    "\n",
    "    if scoring == \"accuracy\":\n",
    "        scorer = accuracy_score\n",
    "    else:\n",
    "        raise ValueError(\"Unknown scoring metric\", scoring)\n",
    "\n",
    "    if cv is None:\n",
    "        cv = KFold(n_splits=5)\n",
    "    elif not isinstance(cv, BaseCrossValidator):\n",
    "        raise TypeError(\"cv should be BaseCrossValidator instance\", type(cv))\n",
    "\n",
    "    output = defaultdict(list)\n",
    "\n",
    "    for i_train, i_test in cv.split(X):\n",
    "        X_train, y_train = X[i_train], y[i_train]\n",
    "        X_test, y_test = X[i_test], y[i_test]\n",
    "\n",
    "        classifier = BatchedKNNClassifier(n_neighbors=max(k_list), **kwargs)\n",
    "        classifier.fit(X_train, y_train)\n",
    "        dist, indexes = classifier.kneighbors(X_test, return_distance=True)\n",
    "\n",
    "        for k in k_list:\n",
    "            y_predict = classifier._predict_precomputed(indexes[:, :k], dist[:, :k])\n",
    "            output[k].append(scorer(y_test, y_predict))\n",
    "    return output"
   ]
  },
  {
   "cell_type": "markdown",
   "metadata": {
    "id": "XMUmF4j_kiYa"
   },
   "source": [
    "#Протестируем полученный код на винном датасете "
   ]
  },
  {
   "cell_type": "code",
   "execution_count": 7,
   "metadata": {
    "id": "7fv8JdVB1jaO"
   },
   "outputs": [],
   "source": [
    "import pandas as pd\n",
    "import matplotlib.pyplot as plt"
   ]
  },
  {
   "cell_type": "markdown",
   "metadata": {
    "id": "J7oo-vw74CGo"
   },
   "source": [
    "##1. Предобработка датасета"
   ]
  },
  {
   "cell_type": "markdown",
   "metadata": {
    "id": "sSBbvcTo4f96"
   },
   "source": [
    "Загрузим сам датасет:"
   ]
  },
  {
   "cell_type": "code",
   "execution_count": 132,
   "metadata": {
    "colab": {
     "base_uri": "https://localhost:8080/",
     "height": 270
    },
    "id": "Ov1I03xXfBhi",
    "outputId": "ebdb06f3-d502-43d7-a663-5fc74b932ab1"
   },
   "outputs": [
    {
     "data": {
      "text/html": [
       "<div>\n",
       "<style scoped>\n",
       "    .dataframe tbody tr th:only-of-type {\n",
       "        vertical-align: middle;\n",
       "    }\n",
       "\n",
       "    .dataframe tbody tr th {\n",
       "        vertical-align: top;\n",
       "    }\n",
       "\n",
       "    .dataframe thead th {\n",
       "        text-align: right;\n",
       "    }\n",
       "</style>\n",
       "<table border=\"1\" class=\"dataframe\">\n",
       "  <thead>\n",
       "    <tr style=\"text-align: right;\">\n",
       "      <th></th>\n",
       "      <th>alcohol</th>\n",
       "      <th>malic_acid</th>\n",
       "      <th>ash</th>\n",
       "      <th>alcalinity_of_ash</th>\n",
       "      <th>magnesium</th>\n",
       "      <th>total_phenols</th>\n",
       "      <th>flavanoids</th>\n",
       "      <th>nonflavanoid_phenols</th>\n",
       "      <th>proanthocyanins</th>\n",
       "      <th>color_intensity</th>\n",
       "      <th>hue</th>\n",
       "      <th>od280/od315_of_diluted_wines</th>\n",
       "      <th>proline</th>\n",
       "    </tr>\n",
       "  </thead>\n",
       "  <tbody>\n",
       "    <tr>\n",
       "      <th>0</th>\n",
       "      <td>14.23</td>\n",
       "      <td>1.71</td>\n",
       "      <td>2.43</td>\n",
       "      <td>15.6</td>\n",
       "      <td>127.0</td>\n",
       "      <td>2.80</td>\n",
       "      <td>3.06</td>\n",
       "      <td>0.28</td>\n",
       "      <td>2.29</td>\n",
       "      <td>5.64</td>\n",
       "      <td>1.04</td>\n",
       "      <td>3.92</td>\n",
       "      <td>1065.0</td>\n",
       "    </tr>\n",
       "    <tr>\n",
       "      <th>1</th>\n",
       "      <td>13.20</td>\n",
       "      <td>1.78</td>\n",
       "      <td>2.14</td>\n",
       "      <td>11.2</td>\n",
       "      <td>100.0</td>\n",
       "      <td>2.65</td>\n",
       "      <td>2.76</td>\n",
       "      <td>0.26</td>\n",
       "      <td>1.28</td>\n",
       "      <td>4.38</td>\n",
       "      <td>1.05</td>\n",
       "      <td>3.40</td>\n",
       "      <td>1050.0</td>\n",
       "    </tr>\n",
       "    <tr>\n",
       "      <th>2</th>\n",
       "      <td>13.16</td>\n",
       "      <td>2.36</td>\n",
       "      <td>2.67</td>\n",
       "      <td>18.6</td>\n",
       "      <td>101.0</td>\n",
       "      <td>2.80</td>\n",
       "      <td>3.24</td>\n",
       "      <td>0.30</td>\n",
       "      <td>2.81</td>\n",
       "      <td>5.68</td>\n",
       "      <td>1.03</td>\n",
       "      <td>3.17</td>\n",
       "      <td>1185.0</td>\n",
       "    </tr>\n",
       "    <tr>\n",
       "      <th>3</th>\n",
       "      <td>14.37</td>\n",
       "      <td>1.95</td>\n",
       "      <td>2.50</td>\n",
       "      <td>16.8</td>\n",
       "      <td>113.0</td>\n",
       "      <td>3.85</td>\n",
       "      <td>3.49</td>\n",
       "      <td>0.24</td>\n",
       "      <td>2.18</td>\n",
       "      <td>7.80</td>\n",
       "      <td>0.86</td>\n",
       "      <td>3.45</td>\n",
       "      <td>1480.0</td>\n",
       "    </tr>\n",
       "    <tr>\n",
       "      <th>4</th>\n",
       "      <td>13.24</td>\n",
       "      <td>2.59</td>\n",
       "      <td>2.87</td>\n",
       "      <td>21.0</td>\n",
       "      <td>118.0</td>\n",
       "      <td>2.80</td>\n",
       "      <td>2.69</td>\n",
       "      <td>0.39</td>\n",
       "      <td>1.82</td>\n",
       "      <td>4.32</td>\n",
       "      <td>1.04</td>\n",
       "      <td>2.93</td>\n",
       "      <td>735.0</td>\n",
       "    </tr>\n",
       "  </tbody>\n",
       "</table>\n",
       "</div>"
      ],
      "text/plain": [
       "   alcohol  malic_acid   ash  alcalinity_of_ash  magnesium  total_phenols  \\\n",
       "0    14.23        1.71  2.43               15.6      127.0           2.80   \n",
       "1    13.20        1.78  2.14               11.2      100.0           2.65   \n",
       "2    13.16        2.36  2.67               18.6      101.0           2.80   \n",
       "3    14.37        1.95  2.50               16.8      113.0           3.85   \n",
       "4    13.24        2.59  2.87               21.0      118.0           2.80   \n",
       "\n",
       "   flavanoids  nonflavanoid_phenols  proanthocyanins  color_intensity   hue  \\\n",
       "0        3.06                  0.28             2.29             5.64  1.04   \n",
       "1        2.76                  0.26             1.28             4.38  1.05   \n",
       "2        3.24                  0.30             2.81             5.68  1.03   \n",
       "3        3.49                  0.24             2.18             7.80  0.86   \n",
       "4        2.69                  0.39             1.82             4.32  1.04   \n",
       "\n",
       "   od280/od315_of_diluted_wines  proline  \n",
       "0                          3.92   1065.0  \n",
       "1                          3.40   1050.0  \n",
       "2                          3.17   1185.0  \n",
       "3                          3.45   1480.0  \n",
       "4                          2.93    735.0  "
      ]
     },
     "execution_count": 132,
     "metadata": {},
     "output_type": "execute_result"
    }
   ],
   "source": [
    "from sklearn.datasets import load_wine\n",
    "\n",
    "wine = load_wine()\n",
    "X = pd.DataFrame(wine['data'], columns=wine['feature_names'])\n",
    "Y = wine['target']\n",
    "X.head()"
   ]
  },
  {
   "cell_type": "code",
   "execution_count": 133,
   "metadata": {
    "colab": {
     "base_uri": "https://localhost:8080/"
    },
    "id": "id8OGySl8VSy",
    "outputId": "c74c8f3d-1567-4aae-c08b-7071f52beb6a"
   },
   "outputs": [
    {
     "data": {
      "text/plain": [
       "array([0, 0, 0, 0, 0, 0, 0, 0, 0, 0, 0, 0, 0, 0, 0, 0, 0, 0, 0, 0, 0, 0,\n",
       "       0, 0, 0, 0, 0, 0, 0, 0, 0, 0, 0, 0, 0, 0, 0, 0, 0, 0, 0, 0, 0, 0,\n",
       "       0, 0, 0, 0, 0, 0, 0, 0, 0, 0, 0, 0, 0, 0, 0, 1, 1, 1, 1, 1, 1, 1,\n",
       "       1, 1, 1, 1, 1, 1, 1, 1, 1, 1, 1, 1, 1, 1, 1, 1, 1, 1, 1, 1, 1, 1,\n",
       "       1, 1, 1, 1, 1, 1, 1, 1, 1, 1, 1, 1, 1, 1, 1, 1, 1, 1, 1, 1, 1, 1,\n",
       "       1, 1, 1, 1, 1, 1, 1, 1, 1, 1, 1, 1, 1, 1, 1, 1, 1, 1, 1, 1, 2, 2,\n",
       "       2, 2, 2, 2, 2, 2, 2, 2, 2, 2, 2, 2, 2, 2, 2, 2, 2, 2, 2, 2, 2, 2,\n",
       "       2, 2, 2, 2, 2, 2, 2, 2, 2, 2, 2, 2, 2, 2, 2, 2, 2, 2, 2, 2, 2, 2,\n",
       "       2, 2])"
      ]
     },
     "execution_count": 133,
     "metadata": {},
     "output_type": "execute_result"
    }
   ],
   "source": [
    "Y"
   ]
  },
  {
   "cell_type": "code",
   "execution_count": 134,
   "metadata": {
    "colab": {
     "base_uri": "https://localhost:8080/"
    },
    "id": "VYU7rNkQ6ASF",
    "outputId": "bb7b42f9-1050-4929-9e9b-194f86f22e63"
   },
   "outputs": [
    {
     "data": {
      "text/plain": [
       "alcohol                         float64\n",
       "malic_acid                      float64\n",
       "ash                             float64\n",
       "alcalinity_of_ash               float64\n",
       "magnesium                       float64\n",
       "total_phenols                   float64\n",
       "flavanoids                      float64\n",
       "nonflavanoid_phenols            float64\n",
       "proanthocyanins                 float64\n",
       "color_intensity                 float64\n",
       "hue                             float64\n",
       "od280/od315_of_diluted_wines    float64\n",
       "proline                         float64\n",
       "dtype: object"
      ]
     },
     "execution_count": 134,
     "metadata": {},
     "output_type": "execute_result"
    }
   ],
   "source": [
    "X.dtypes"
   ]
  },
  {
   "cell_type": "markdown",
   "metadata": {
    "id": "H76HH-yn6FZH"
   },
   "source": [
    "Все признаки числовые. Т.е. пункт преобразования категориальных признаков мы опускаем))\n",
    "\n",
    "Хотим проверить, есть ли в датасете данные, для которых хотя бы одно значение будет пустым:"
   ]
  },
  {
   "cell_type": "code",
   "execution_count": 135,
   "metadata": {
    "colab": {
     "base_uri": "https://localhost:8080/"
    },
    "id": "cCy59dK54thw",
    "outputId": "58926728-0ed8-4caa-fa3f-d76f2d2e7974"
   },
   "outputs": [
    {
     "data": {
      "text/plain": [
       "(178, 13)"
      ]
     },
     "execution_count": 135,
     "metadata": {},
     "output_type": "execute_result"
    }
   ],
   "source": [
    "X.shape"
   ]
  },
  {
   "cell_type": "code",
   "execution_count": 136,
   "metadata": {
    "colab": {
     "base_uri": "https://localhost:8080/"
    },
    "id": "lAidipAofBq6",
    "outputId": "269afb52-8edf-48c0-cfdf-a1902e053cd9"
   },
   "outputs": [
    {
     "data": {
      "text/plain": [
       "(178, 13)"
      ]
     },
     "execution_count": 136,
     "metadata": {},
     "output_type": "execute_result"
    }
   ],
   "source": [
    "X.dropna().shape"
   ]
  },
  {
   "cell_type": "markdown",
   "metadata": {
    "id": "P97mG-Sb4wrF"
   },
   "source": [
    "Видим, что если мы удалим строки в которых есть пустые значения, то датасет не изменится, т.е. пропусков нет, и это прекрасно, т.к. мы пропускаем пункт интерпретации null-ов! 🙃"
   ]
  },
  {
   "cell_type": "markdown",
   "metadata": {
    "id": "aASdCKDtCjk1"
   },
   "source": [
    "Разобьем выборку на тестовую и обучающую:"
   ]
  },
  {
   "cell_type": "code",
   "execution_count": 137,
   "metadata": {
    "id": "sy_tMqAM5gzC"
   },
   "outputs": [],
   "source": [
    "from sklearn.model_selection import train_test_split\n",
    "\n",
    "\n",
    "X_train, X_test, Y_train, Y_test = train_test_split(X, Y, test_size=0.25)"
   ]
  },
  {
   "cell_type": "markdown",
   "metadata": {
    "id": "TTWj_SFonFi-"
   },
   "source": [
    "Отмасштабируем вещественные признаки:"
   ]
  },
  {
   "cell_type": "code",
   "execution_count": 138,
   "metadata": {
    "colab": {
     "base_uri": "https://localhost:8080/",
     "height": 206
    },
    "id": "qzNuwRDQClXe",
    "outputId": "6779b484-006e-413c-9289-c86452123f22"
   },
   "outputs": [
    {
     "data": {
      "text/html": [
       "<div>\n",
       "<style scoped>\n",
       "    .dataframe tbody tr th:only-of-type {\n",
       "        vertical-align: middle;\n",
       "    }\n",
       "\n",
       "    .dataframe tbody tr th {\n",
       "        vertical-align: top;\n",
       "    }\n",
       "\n",
       "    .dataframe thead th {\n",
       "        text-align: right;\n",
       "    }\n",
       "</style>\n",
       "<table border=\"1\" class=\"dataframe\">\n",
       "  <thead>\n",
       "    <tr style=\"text-align: right;\">\n",
       "      <th></th>\n",
       "      <th>alcohol</th>\n",
       "      <th>magnesium</th>\n",
       "    </tr>\n",
       "  </thead>\n",
       "  <tbody>\n",
       "    <tr>\n",
       "      <th>0</th>\n",
       "      <td>0.147811</td>\n",
       "      <td>-1.721407</td>\n",
       "    </tr>\n",
       "    <tr>\n",
       "      <th>1</th>\n",
       "      <td>0.902235</td>\n",
       "      <td>-0.006627</td>\n",
       "    </tr>\n",
       "    <tr>\n",
       "      <th>2</th>\n",
       "      <td>0.072369</td>\n",
       "      <td>-0.677628</td>\n",
       "    </tr>\n",
       "    <tr>\n",
       "      <th>3</th>\n",
       "      <td>0.575318</td>\n",
       "      <td>0.738929</td>\n",
       "    </tr>\n",
       "    <tr>\n",
       "      <th>4</th>\n",
       "      <td>0.939956</td>\n",
       "      <td>1.260819</td>\n",
       "    </tr>\n",
       "  </tbody>\n",
       "</table>\n",
       "</div>"
      ],
      "text/plain": [
       "    alcohol  magnesium\n",
       "0  0.147811  -1.721407\n",
       "1  0.902235  -0.006627\n",
       "2  0.072369  -0.677628\n",
       "3  0.575318   0.738929\n",
       "4  0.939956   1.260819"
      ]
     },
     "execution_count": 138,
     "metadata": {},
     "output_type": "execute_result"
    }
   ],
   "source": [
    "from sklearn.preprocessing import StandardScaler\n",
    "\n",
    "#Для тестовой\n",
    "normalizer = StandardScaler()\n",
    "X_real_norm_np = normalizer.fit_transform(X_test[['alcohol', 'magnesium']])\n",
    "X_newTest = pd.DataFrame(data=X_real_norm_np)\n",
    "X_newTest.columns = ['alcohol', 'magnesium']\n",
    "X_newTest.head()"
   ]
  },
  {
   "cell_type": "code",
   "execution_count": 139,
   "metadata": {
    "id": "KZW8y1C-lGQr",
    "outputId": "e3f40610-f3c3-4bae-86b9-eba9ed4b179d"
   },
   "outputs": [
    {
     "data": {
      "text/html": [
       "<div>\n",
       "<style scoped>\n",
       "    .dataframe tbody tr th:only-of-type {\n",
       "        vertical-align: middle;\n",
       "    }\n",
       "\n",
       "    .dataframe tbody tr th {\n",
       "        vertical-align: top;\n",
       "    }\n",
       "\n",
       "    .dataframe thead th {\n",
       "        text-align: right;\n",
       "    }\n",
       "</style>\n",
       "<table border=\"1\" class=\"dataframe\">\n",
       "  <thead>\n",
       "    <tr style=\"text-align: right;\">\n",
       "      <th></th>\n",
       "      <th>alcohol</th>\n",
       "      <th>magnesium</th>\n",
       "    </tr>\n",
       "  </thead>\n",
       "  <tbody>\n",
       "    <tr>\n",
       "      <th>0</th>\n",
       "      <td>-0.188366</td>\n",
       "      <td>-0.295895</td>\n",
       "    </tr>\n",
       "    <tr>\n",
       "      <th>1</th>\n",
       "      <td>-0.519946</td>\n",
       "      <td>0.256443</td>\n",
       "    </tr>\n",
       "    <tr>\n",
       "      <th>2</th>\n",
       "      <td>0.057249</td>\n",
       "      <td>0.532612</td>\n",
       "    </tr>\n",
       "    <tr>\n",
       "      <th>3</th>\n",
       "      <td>-0.876087</td>\n",
       "      <td>0.256443</td>\n",
       "    </tr>\n",
       "    <tr>\n",
       "      <th>4</th>\n",
       "      <td>-0.777841</td>\n",
       "      <td>-0.779191</td>\n",
       "    </tr>\n",
       "  </tbody>\n",
       "</table>\n",
       "</div>"
      ],
      "text/plain": [
       "    alcohol  magnesium\n",
       "0 -0.188366  -0.295895\n",
       "1 -0.519946   0.256443\n",
       "2  0.057249   0.532612\n",
       "3 -0.876087   0.256443\n",
       "4 -0.777841  -0.779191"
      ]
     },
     "execution_count": 139,
     "metadata": {},
     "output_type": "execute_result"
    }
   ],
   "source": [
    "from sklearn import preprocessing\n",
    "\n",
    "#Для обучающей\n",
    "normalizer = preprocessing.StandardScaler()\n",
    "X_real_norm_np = normalizer.fit_transform(X_train[['alcohol', 'magnesium']])\n",
    "X_newTrain = pd.DataFrame(data=X_real_norm_np)\n",
    "X_newTrain.columns = ['alcohol', 'magnesium']\n",
    "X_newTrain.head()"
   ]
  },
  {
   "cell_type": "markdown",
   "metadata": {
    "id": "zBwoIRurt1-g"
   },
   "source": [
    "## 2. Исследуем реализованный алгоритм на точность"
   ]
  },
  {
   "cell_type": "code",
   "execution_count": 140,
   "metadata": {
    "id": "gRqIZg-tlGQr"
   },
   "outputs": [],
   "source": [
    "# Используем алгоритм brute, основанный на деревьях - он быстрее обучается"
   ]
  },
  {
   "cell_type": "code",
   "execution_count": 150,
   "metadata": {
    "id": "OCpBoLmUFfWV"
   },
   "outputs": [],
   "source": [
    "cv = KFold(n_splits=3)\n",
    "\n",
    "euclidean_score = knn_cross_val_score(\n",
    "    X=np.array(X_train),\n",
    "    y=np.array(Y_train),\n",
    "    k_list=np.arange(20) + 1,\n",
    "    scoring='accuracy',\n",
    "    cv=cv,\n",
    "    algorithm='brute',\n",
    "    metric='euclidean',\n",
    "    batch_size=1000\n",
    ")"
   ]
  },
  {
   "cell_type": "code",
   "execution_count": 151,
   "metadata": {
    "id": "BQyu2Y91FjSo"
   },
   "outputs": [],
   "source": [
    "cosine_score = knn_cross_val_score(\n",
    "    X=np.array(X_train),\n",
    "    y=np.array(Y_train),\n",
    "    k_list=np.arange(20) + 1,\n",
    "    scoring='accuracy',\n",
    "    cv=cv,\n",
    "    algorithm='brute',\n",
    "    metric='cosine',\n",
    "    batch_size=1000\n",
    ")"
   ]
  },
  {
   "cell_type": "code",
   "execution_count": 152,
   "metadata": {
    "colab": {
     "base_uri": "https://localhost:8080/",
     "height": 280
    },
    "id": "ka-SgWLdFKN8",
    "outputId": "7d0f3895-7abf-4d29-da01-06e583baf379"
   },
   "outputs": [
    {
     "data": {
      "image/png": "[encoded data removed]",
      "text/plain": [
       "<Figure size 432x288 with 1 Axes>"
      ]
     },
     "metadata": {
      "needs_background": "light"
     },
     "output_type": "display_data"
    }
   ],
   "source": [
    "plt.plot(np.arange(20) + 1, [np.mean(x) for x in euclidean_score.values()])\n",
    "plt.plot(np.arange(20) + 1, [np.mean(x) for x in cosine_score.values()])\n",
    "plt.legend(['euclidean', 'cosine'])\n",
    "plt.xlabel('n_neighbors')\n",
    "plt.ylabel('mean accuracy')\n",
    "plt.show()"
   ]
  },
  {
   "cell_type": "markdown",
   "metadata": {
    "id": "9dcQpB7EF9PR"
   },
   "source": [
    "Косинусное расстояние дает более приличный результат, чем евклидова метрика для небольшого числа соседей (а большое число соседей нас скорее и не будет интересовать, так как оно даст не самый хороший результат). \n",
    "\n",
    "- Косинуское расстояние дает большую точность, скорее всего, потому, что оно отражает относительное, а не абсолютное сравнение размеров отдельных векторов. Таким образом, эта мера наиболее подходит для данных, где частота важнее абсолютных значений."
   ]
  },
  {
   "cell_type": "markdown",
   "metadata": {
    "id": "zaWY52LvueC4"
   },
   "source": [
    "Скачаем и импортируем `mlxtend` -- библиотеку для упрощенной реализации решающих поверхностей обученных классификаторов."
   ]
  },
  {
   "cell_type": "code",
   "execution_count": 21,
   "metadata": {
    "colab": {
     "base_uri": "https://localhost:8080/"
    },
    "id": "U_LxCIA6G6_j",
    "outputId": "4d9e7be9-588f-46a7-db4b-b1fb38a39a2f"
   },
   "outputs": [
    {
     "name": "stdout",
     "output_type": "stream",
     "text": [
      "Requirement already satisfied: mlxtend in c:\\users\\public\\anaconda3\\lib\\site-packages (0.19.0)\n",
      "Requirement already satisfied: scipy>=1.2.1 in c:\\users\\public\\anaconda3\\lib\\site-packages (from mlxtend) (1.7.1)\n",
      "Requirement already satisfied: scikit-learn>=0.20.3 in c:\\users\\public\\anaconda3\\lib\\site-packages (from mlxtend) (0.24.2)\n",
      "Requirement already satisfied: joblib>=0.13.2 in c:\\users\\public\\anaconda3\\lib\\site-packages (from mlxtend) (1.1.0)\n",
      "Requirement already satisfied: matplotlib>=3.0.0 in c:\\users\\public\\anaconda3\\lib\\site-packages (from mlxtend) (3.4.3)\n",
      "Requirement already satisfied: setuptools in c:\\users\\public\\anaconda3\\lib\\site-packages (from mlxtend) (58.0.4)\n",
      "Requirement already satisfied: numpy>=1.16.2 in c:\\users\\public\\anaconda3\\lib\\site-packages (from mlxtend) (1.20.3)\n",
      "Requirement already satisfied: pandas>=0.24.2 in c:\\users\\public\\anaconda3\\lib\\site-packages (from mlxtend) (1.2.4)\n",
      "Requirement already satisfied: python-dateutil>=2.7 in c:\\users\\public\\anaconda3\\lib\\site-packages (from matplotlib>=3.0.0->mlxtend) (2.8.2)\n",
      "Requirement already satisfied: pillow>=6.2.0 in c:\\users\\public\\anaconda3\\lib\\site-packages (from matplotlib>=3.0.0->mlxtend) (8.4.0)\n",
      "Requirement already satisfied: kiwisolver>=1.0.1 in c:\\users\\public\\anaconda3\\lib\\site-packages (from matplotlib>=3.0.0->mlxtend) (1.3.1)\n",
      "Requirement already satisfied: pyparsing>=2.2.1 in c:\\users\\public\\anaconda3\\lib\\site-packages (from matplotlib>=3.0.0->mlxtend) (3.0.4)\n",
      "Requirement already satisfied: cycler>=0.10 in c:\\users\\public\\anaconda3\\lib\\site-packages (from matplotlib>=3.0.0->mlxtend) (0.10.0)\n",
      "Requirement already satisfied: six in c:\\users\\public\\anaconda3\\lib\\site-packages (from cycler>=0.10->matplotlib>=3.0.0->mlxtend) (1.16.0)\n",
      "Requirement already satisfied: pytz>=2017.3 in c:\\users\\public\\anaconda3\\lib\\site-packages (from pandas>=0.24.2->mlxtend) (2021.3)\n",
      "Requirement already satisfied: threadpoolctl>=2.0.0 in c:\\users\\public\\anaconda3\\lib\\site-packages (from scikit-learn>=0.20.3->mlxtend) (2.2.0)\n"
     ]
    }
   ],
   "source": [
    "!pip install mlxtend"
   ]
  },
  {
   "cell_type": "code",
   "execution_count": 22,
   "metadata": {
    "id": "iZyV-DwhIwW_"
   },
   "outputs": [],
   "source": [
    "import mlxtend"
   ]
  },
  {
   "cell_type": "code",
   "execution_count": 23,
   "metadata": {
    "id": "M5euZLCMlGQt",
    "outputId": "51e8d4c6-498d-4d3f-e7bb-fc9430afb056"
   },
   "outputs": [
    {
     "name": "stdout",
     "output_type": "stream",
     "text": [
      "NN\tTrain\tTest\n",
      "1\t1.00\t0.60\t\n",
      "3\t0.79\t0.73\t\n",
      "5\t0.77\t0.73\t\n",
      "10\t0.74\t0.80\t\n",
      "15\t0.73\t0.80\t\n",
      "25\t0.71\t0.78\t\n"
     ]
    }
   ],
   "source": [
    "# Это для встроенного KNN\n",
    "from sklearn.neighbors import KNeighborsClassifier\n",
    "\n",
    "neighbours = [1, 3, 5, 10, 15, 25]\n",
    "TrainedClassifiers = []\n",
    "print('NN\\tTrain\\tTest')\n",
    "for k in neighbours:\n",
    "    print(k, end = '\\t')\n",
    "    clf = KNeighborsClassifier(n_neighbors=k)\n",
    "    clf.fit(X_newTrain, Y_train)\n",
    "    TrainedClassifiers.append(clf) # для подсказки 5 из задачи 1.5\n",
    "    for X_data, y_data in zip([X_newTrain, X_newTest], [Y_train, Y_test]):\n",
    "        y_predicted = clf.predict(X_data)\n",
    "        print(f\"{np.mean(y_predicted==y_data):.2f}\", end = '\\t')\n",
    "    print('')"
   ]
  },
  {
   "cell_type": "code",
   "execution_count": null,
   "metadata": {
    "id": "rZdNFbBqlGQu",
    "outputId": "c749926b-5d48-4e7e-c03c-638c06264483"
   },
   "outputs": [
    {
     "data": {
      "image/png": "[encoded data removed]",
      "text/plain": [
       "<Figure size 1440x720 with 6 Axes>"
      ]
     },
     "metadata": {
      "needs_background": "light"
     },
     "output_type": "display_data"
    }
   ],
   "source": [
    "from mlxtend.plotting import plot_decision_regions\n",
    "from itertools import product\n",
    "\n",
    "fig, axs = plt.subplots(nrows = 2, ncols = 3, figsize = (20, 10))\n",
    "\n",
    "for classifier, a in zip(TrainedClassifiers, product([0, 1], [0, 1, 2])):\n",
    "    ax = axs[a[0], a[1]]\n",
    "    plot_decision_regions(np.array(X_newTrain), np.array(Y_train), clf=classifier, legend=2, ax=ax)\n",
    "    ax.set_title('n_neighbours = ' + str(neighbours[3 * a[0] + a[1]]))\n",
    "plt.show()"
   ]
  },
  {
   "cell_type": "markdown",
   "metadata": {},
   "source": [
    "Самая высокая точность предсказания на тестовой выборке оказалсь для десяти соседей. Для этого числа получилось самое разумное соотношение точности на тренировочной и тестовой выборках. Для меньших значений нашего гиперпараметра (числа соседей) выходила высокая точность на тренировочной выборке, что может судить о переобучении модели -> низкая точность предсказания на тестовой выборке. При больших значениях числа соседей результат тоже не очень хороший, так как, на самом деле, у нас не так много данных (всего 178) и большое количество соседей, на которых мы смотрим, может сбивать наше предсказние: вдруг рядом с нашей точкой находится 5 зеленых точек (очень близко), тогда бы мы хотели сказать, что наше предсказание -- зеленый, но мы смотрим на 25 соседей, а не на пять, и может окзаться так, что подальше от рассматриваемой точки мы найдем скопление из 20 синих точек. Тогда нам придется раскрасить рассматриваемую точку в синий цвет. Проблема в том, что соседи дают одинаковый вклад в результат, вне зависимости от расстояния. Если уж мы хотим брать большое число соседей, то нужно уменьшать вклад от далеких точек и увеличиват от близких (например, ввести функцию, которая большая при маленьких значения расстояния и маленькая при больших значениях расстояния: что-то типо  𝑒−𝑟2 , и использовать ее как вескаждой точки относительно рассмариваемой).\n",
    "\n",
    "Касательно картинок: признак хорошего классификатора -- это отсутствие непонятных крошечных островков иного цвета, гладкость границ областей и остуствие узких зон. Смотря на распределние данных, хочется сказать, что посередине хотелось бы увидеть зеленое пятно, слева и слева-сверху должны быть оранжевые зоны, а в остальных местах -- синие. Самые гладкие и приятные на взгляд границы получились для 25 соседей, но при этом мы видим явную несправедливость по отношению к зеленому цвету в центре картинки, а также хотелось бы, чтобы слева-сверху все-таки была оранжевая зона, а не синяя. Под наибольшее количество вышеупомянутых мной критериев, на мой взгляд, попадает картинка для десяти соседей. Единственная ее проблема в том, что нижний правый угол зеленый, а хотелось бы видеть его синим."
   ]
  },
  {
   "cell_type": "markdown",
   "metadata": {},
   "source": [
    "- Хороший результат при $k = 10$ довольно логичен -- при большом числе соседей мы можем учитывать элементы из другого цвета, т.е. для прогнозирования при большем $k$ учитывается больше разнородных экземпляров, что усложняет прогнозирование. При этом, для малых $k$ решающая поверхность не гладкая "
   ]
  },
  {
   "cell_type": "markdown",
   "metadata": {
    "id": "MvYAhw2TSpEH"
   },
   "source": [
    "# Сравним со встроенным KNN"
   ]
  },
  {
   "cell_type": "code",
   "execution_count": null,
   "metadata": {
    "id": "pTvYh0zbS2q2"
   },
   "outputs": [],
   "source": [
    "from sklearn.neighbors import KNeighborsClassifier"
   ]
  },
  {
   "cell_type": "code",
   "execution_count": 24,
   "metadata": {
    "colab": {
     "base_uri": "https://localhost:8080/",
     "height": 956
    },
    "id": "6eOyxkn3TE6T",
    "outputId": "95ca16a1-f998-403d-ba24-36840bdfc2b5"
   },
   "outputs": [
    {
     "name": "stdout",
     "output_type": "stream",
     "text": [
      "NN\tTrain\tTest\n",
      "1\t1.00\t0.60\t\n",
      "3\t0.79\t0.73\t\n",
      "5\t0.77\t0.73\t\n",
      "10\t0.74\t0.80\t\n",
      "15\t0.73\t0.80\t\n",
      "25\t0.71\t0.78\t\n"
     ]
    }
   ],
   "source": [
    "neighbours = [1, 3, 5, 10, 15, 25]\n",
    "TrainedClassifiers = []\n",
    "print('NN\\tTrain\\tTest')\n",
    "for k in neighbours:\n",
    "    print(k, end = '\\t')\n",
    "    clf = KNeighborsClassifier(n_neighbors=k)\n",
    "    clf.fit(X_newTrain, Y_train)\n",
    "    TrainedClassifiers.append(clf) \n",
    "    for X_data, y_data in zip([X_newTrain, X_newTest], [Y_train, Y_test]):\n",
    "        y_predicted = clf.predict(X_data)\n",
    "        print(f\"{np.mean(y_predicted==y_data):.2f}\", end = '\\t')\n",
    "    print('')"
   ]
  },
  {
   "cell_type": "markdown",
   "metadata": {
    "id": "chmE6Jxiunag"
   },
   "source": [
    "Получаем ровно те же результаты, что и были у нас для реализованного нами KNN"
   ]
  },
  {
   "cell_type": "markdown",
   "metadata": {
    "id": "COqlXbWklGQv"
   },
   "source": [
    "## Теперь сравним KNN с более сложной моделью - RandomForest"
   ]
  },
  {
   "cell_type": "code",
   "execution_count": 82,
   "metadata": {
    "id": "l-kSAJuRlGQv"
   },
   "outputs": [],
   "source": [
    "from mlxtend.data import boston_housing_data\n",
    "X, y = boston_housing_data()\n",
    "X_train, X_test, y_train, y_test = train_test_split(X, y,\n",
    "                                                    test_size = 0.3,\n",
    "                                                    random_state = 123,\n",
    "                                                    shuffle = True)\n",
    "\n",
    "X_train, X_test, y_train, y_test = train_test_split(X, y, test_size = 0.3, random_state = 123)"
   ]
  },
  {
   "cell_type": "code",
   "execution_count": 83,
   "metadata": {
    "id": "-zMH4PAflGQw",
    "outputId": "1c3b9846-f5d1-4a31-c447-25b7dac7cecf"
   },
   "outputs": [
    {
     "name": "stdout",
     "output_type": "stream",
     "text": [
      "MSE_train: 0.000000\n",
      "MSE_test: 18.847303\n"
     ]
    }
   ],
   "source": [
    "from sklearn.tree import DecisionTreeRegressor\n",
    "from sklearn.metrics import mean_squared_error\n",
    "\n",
    "# TODO: обучите решающее дерево без ограничений на тренировочной выборке\n",
    "dt = DecisionTreeRegressor()\n",
    "dt.fit(X_train, y_train)\n",
    "\n",
    "# TODO: рассчитайте MSE на тренировочной и тестовой выборках\n",
    "print('MSE_train: %f' % mean_squared_error(y_train, dt.predict(X_train)))\n",
    "print('MSE_test: %f' % mean_squared_error(y_test, dt.predict(X_test)))"
   ]
  },
  {
   "cell_type": "code",
   "execution_count": 84,
   "metadata": {
    "id": "2tftdNlXlGQw"
   },
   "outputs": [],
   "source": [
    "# переобучена, так как нет ограничений"
   ]
  },
  {
   "cell_type": "code",
   "execution_count": 85,
   "metadata": {
    "id": "Rcs0SovolGQw",
    "outputId": "af035073-a95d-42df-a86c-7e80aed4b0de"
   },
   "outputs": [
    {
     "name": "stdout",
     "output_type": "stream",
     "text": [
      "MSE_train: 1.707529\n",
      "MSE_test: 15.650232\n"
     ]
    }
   ],
   "source": [
    "from sklearn.ensemble import RandomForestRegressor\n",
    "\n",
    "base_tree = DecisionTreeRegressor(random_state = 123)\n",
    "\n",
    "# Обучим случайный лес с 20 деревьями, каждое из которых строится без ограничений\n",
    "rf = RandomForestRegressor(n_estimators = 20)\n",
    "# Рассчитаем MSE на тренировочной и тестовой выборках для случайного леса\n",
    "rf.fit(X_train, y_train)\n",
    "print('MSE_train: %f' % mean_squared_error(y_train, rf.predict(X_train)))\n",
    "print('MSE_test: %f' % mean_squared_error(y_test, rf.predict(X_test)))"
   ]
  },
  {
   "cell_type": "code",
   "execution_count": 29,
   "metadata": {
    "id": "KrCDFQIMlGQx",
    "outputId": "7643986f-e423-4256-e572-2820a565ef54"
   },
   "outputs": [
    {
     "data": {
      "image/png": "[encoded data removed]",
      "text/plain": [
       "<Figure size 720x504 with 1 Axes>"
      ]
     },
     "metadata": {
      "needs_background": "light"
     },
     "output_type": "display_data"
    }
   ],
   "source": [
    "# Построим зависимость MSE от количества деревьев\n",
    "n_trees = 100\n",
    "train_loss = []\n",
    "test_loss = []\n",
    "\n",
    "for i in range(1, n_trees):\n",
    "    rf = RandomForestRegressor(n_estimators = i, random_state = 123)\n",
    "    rf.fit(X_train, y_train)\n",
    "    train_loss.append(mean_squared_error(y_train, rf.predict(X_train)))\n",
    "    test_loss.append(mean_squared_error(y_test, rf.predict(X_test)))\n",
    "    \n",
    "plt.figure(figsize = (10, 7))\n",
    "plt.grid()\n",
    "plt.plot(train_loss, label = 'MSE_train')\n",
    "plt.plot(test_loss, label = 'MSE_test')\n",
    "plt.ylabel('MSE')\n",
    "plt.xlabel('# trees')\n",
    "plt.legend();"
   ]
  },
  {
   "cell_type": "markdown",
   "metadata": {
    "id": "w-PgEzuxlGQx"
   },
   "source": [
    "Как и ожидалось, по достижении некоторого числа деревьев обе ошибки практически не изменяются, то есть переобучения при росте числа деревьев не происходит.\n",
    "\n",
    "Однако обычно при изменении какого-нибудь другого параметра на реальных данных переобучение может произойти. Например, случайный лес с ограниченными по глубине деревьями может предсказывать более точно, чем лес без ограничений.\n",
    "\n",
    "В нашем же случае случайный лес, скорее, лишь страдает от регуляризации. Например, посмотрим на поведение модели при изменении максимальной глубины деревьев."
   ]
  },
  {
   "cell_type": "code",
   "execution_count": 30,
   "metadata": {
    "id": "o6C4XA30lGQx",
    "outputId": "f4a0383a-10a3-4917-e774-cf7c79c82ead"
   },
   "outputs": [
    {
     "data": {
      "image/png": "[encoded data removed]",
      "text/plain": [
       "<Figure size 720x504 with 1 Axes>"
      ]
     },
     "metadata": {
      "needs_background": "light"
     },
     "output_type": "display_data"
    }
   ],
   "source": [
    "# От максимальной глубина\n",
    "max_depth = 40\n",
    "train_loss = []\n",
    "test_loss = []\n",
    "\n",
    "for i in range(1, max_depth):\n",
    "    rf = RandomForestRegressor(n_estimators = 20, max_depth = i, random_state = 123)\n",
    "    rf.fit(X_train, y_train)\n",
    "    train_loss.append(mean_squared_error(y_train, rf.predict(X_train)))\n",
    "    test_loss.append(mean_squared_error(y_test, rf.predict(X_test)))\n",
    "    \n",
    "plt.figure(figsize = (10, 7))\n",
    "plt.grid()\n",
    "plt.plot(train_loss, label = 'MSE_train')\n",
    "plt.plot(test_loss, label = 'MSE_test')\n",
    "plt.ylabel('MSE')\n",
    "plt.xlabel('max_depth')\n",
    "plt.legend();"
   ]
  },
  {
   "cell_type": "code",
   "execution_count": 31,
   "metadata": {
    "id": "Oy369L3ulGQy"
   },
   "outputs": [],
   "source": [
    "# Переобучение не наблюдается. Вообще же, как обычно, гиперпараметры случайного леса стоит подбирать на кросс-валидации"
   ]
  },
  {
   "cell_type": "code",
   "execution_count": 46,
   "metadata": {},
   "outputs": [],
   "source": [
    "# Раз уж зашел разговор про деревья, то есть одна интересная вещь, на которую можно посмотреть: как отбирать признаки\n",
    "# по важности на основе обучения дерева: чем больше разбиений происходило по конкретному признаку, тем более он важен"
   ]
  },
  {
   "cell_type": "code",
   "execution_count": 49,
   "metadata": {},
   "outputs": [],
   "source": [
    "# Просто чтобы подгрузить названия признаков\n",
    "from sklearn.datasets import load_boston\n",
    "data = load_boston()"
   ]
  },
  {
   "cell_type": "code",
   "execution_count": 50,
   "metadata": {},
   "outputs": [
    {
     "data": {
      "image/png": "[encoded data removed]",
      "text/plain": [
       "<Figure size 720x504 with 1 Axes>"
      ]
     },
     "metadata": {
      "needs_background": "light"
     },
     "output_type": "display_data"
    }
   ],
   "source": [
    "plt.figure(figsize = (10, 7))\n",
    "plt.bar(data['feature_names'], rf.feature_importances_);"
   ]
  },
  {
   "cell_type": "code",
   "execution_count": null,
   "metadata": {},
   "outputs": [],
   "source": [
    "# Посмотреть что это за признаки!"
   ]
  },
  {
   "cell_type": "code",
   "execution_count": 86,
   "metadata": {
    "id": "t0_0qNbXlGQy"
   },
   "outputs": [],
   "source": [
    "from sklearn.neighbors import KNeighborsRegressor"
   ]
  },
  {
   "cell_type": "code",
   "execution_count": 89,
   "metadata": {},
   "outputs": [],
   "source": [
    "# Для деревьев абсолютно не важна нормализация, а вот для метрических методов важна"
   ]
  },
  {
   "cell_type": "code",
   "execution_count": 108,
   "metadata": {},
   "outputs": [],
   "source": [
    "from sklearn.preprocessing import StandardScaler\n",
    "\n",
    "sc = StandardScaler()\n",
    "X_train_scaled = pd.DataFrame(data=sc.fit_transform(X_train), columns=data['feature_names'])\n",
    "X_test_scaled = pd.DataFrame(data=sc.transform(X_test), columns=data['feature_names'])"
   ]
  },
  {
   "cell_type": "code",
   "execution_count": 99,
   "metadata": {
    "id": "2RYVkG-FlGQy"
   },
   "outputs": [],
   "source": [
    "knn_regressor = KNeighborsRegressor(n_neighbors=5)"
   ]
  },
  {
   "cell_type": "code",
   "execution_count": 100,
   "metadata": {
    "id": "j5j3MFxflGQy",
    "outputId": "d5eaba3c-997f-488e-cb20-aeeec3126fc4"
   },
   "outputs": [
    {
     "name": "stdout",
     "output_type": "stream",
     "text": [
      "MSE_train: 11.870850\n",
      "MSE_test: 29.786682\n"
     ]
    }
   ],
   "source": [
    "knn_regressor.fit(X_train_scaled, y_train)\n",
    "print('MSE_train: %f' % mean_squared_error(y_train, knn_regressor.predict(X_train_scaled)))\n",
    "print('MSE_test: %f' % mean_squared_error(y_test, knn_regressor.predict(X_test_scaled)))"
   ]
  },
  {
   "cell_type": "code",
   "execution_count": 92,
   "metadata": {},
   "outputs": [],
   "source": [
    "# Подберем оптимальное количество соседей"
   ]
  },
  {
   "cell_type": "code",
   "execution_count": 93,
   "metadata": {
    "id": "UI7HhSyMlGQz"
   },
   "outputs": [],
   "source": [
    "X_train_train, X_train_val, y_train_train, y_train_val = train_test_split(X_train_scaled, y_train, \n",
    "                                                                          test_size = 0.3, random_state = 123)"
   ]
  },
  {
   "cell_type": "code",
   "execution_count": 94,
   "metadata": {
    "id": "V6D3uJrQlGQz"
   },
   "outputs": [],
   "source": [
    "errors = []\n",
    "K = 25\n",
    "for k in range(1, K):\n",
    "    knn_regressor = KNeighborsRegressor(n_neighbors=k)\n",
    "    knn_regressor.fit(X_train_train, y_train_train)\n",
    "    errors.append(mean_squared_error(y_train_val, knn_regressor.predict(X_train_val)))"
   ]
  },
  {
   "cell_type": "code",
   "execution_count": 95,
   "metadata": {},
   "outputs": [
    {
     "data": {
      "image/png": "[encoded data removed]",
      "text/plain": [
       "<Figure size 720x504 with 1 Axes>"
      ]
     },
     "metadata": {
      "needs_background": "light"
     },
     "output_type": "display_data"
    }
   ],
   "source": [
    "plt.figure(figsize = (10, 7))\n",
    "plt.grid()\n",
    "plt.plot(errors, label = 'MSE')\n",
    "plt.ylabel('MSE')\n",
    "plt.xlabel('K_neighbours')\n",
    "plt.legend();"
   ]
  },
  {
   "cell_type": "code",
   "execution_count": 96,
   "metadata": {},
   "outputs": [
    {
     "data": {
      "text/plain": [
       "3"
      ]
     },
     "execution_count": 96,
     "metadata": {},
     "output_type": "execute_result"
    }
   ],
   "source": [
    "k = np.array(errors).argmin()\n",
    "k"
   ]
  },
  {
   "cell_type": "code",
   "execution_count": 98,
   "metadata": {},
   "outputs": [
    {
     "name": "stdout",
     "output_type": "stream",
     "text": [
      "MSE_train: 7.785035\n",
      "MSE_test: 30.768765\n"
     ]
    }
   ],
   "source": [
    "knn_regressor = KNeighborsRegressor(n_neighbors=3)\n",
    "knn_regressor.fit(X_train_scaled, y_train)\n",
    "print('MSE_train: %f' % mean_squared_error(y_train, knn_regressor.predict(X_train_scaled)))\n",
    "print('MSE_test: %f' % mean_squared_error(y_test, knn_regressor.predict(X_test_scaled)))"
   ]
  },
  {
   "cell_type": "code",
   "execution_count": 51,
   "metadata": {},
   "outputs": [],
   "source": [
    "# Все равно имеем результаты гораздо хуже, что логично - Knn довольно простая модель, обучения нет (мы просто запоминаем \n",
    "# выборку и все)"
   ]
  },
  {
   "cell_type": "code",
   "execution_count": 52,
   "metadata": {},
   "outputs": [],
   "source": [
    "# Интересно еще взгянуть на линейные модели, вдруг наша выборка хорошо линеаизуется"
   ]
  },
  {
   "cell_type": "code",
   "execution_count": 101,
   "metadata": {},
   "outputs": [],
   "source": [
    "from sklearn.linear_model import LinearRegression, Ridge, Lasso"
   ]
  },
  {
   "cell_type": "code",
   "execution_count": 102,
   "metadata": {},
   "outputs": [
    {
     "name": "stdout",
     "output_type": "stream",
     "text": [
      "Train: 20.184336639873152\n",
      "Test: 28.40585481050823\n"
     ]
    }
   ],
   "source": [
    "lr = LinearRegression().fit(X_train_scaled, y_train)\n",
    "print (\"Train: {}\".format(mean_squared_error(y_train, lr.predict(X_train_scaled))))\n",
    "print (\"Test: {}\".format(mean_squared_error(y_test, lr.predict(X_test_scaled))))"
   ]
  },
  {
   "cell_type": "code",
   "execution_count": 103,
   "metadata": {},
   "outputs": [],
   "source": [
    "# Все еще хуже деревьев, но лучше knn - тут явно меньше переобучения, так как разница между ошибкой на \n",
    "# трейне и на тесте не очень большая, в отличие от knn\n",
    "# Попробуем еще с регуляризацией (штраф за большие веса, контролирует переобучение)"
   ]
  },
  {
   "cell_type": "code",
   "execution_count": 104,
   "metadata": {},
   "outputs": [
    {
     "data": {
      "text/plain": [
       "array([-0.9281326 ,  0.91733243,  0.51483834,  0.062497  , -1.6306264 ,\n",
       "        3.42029822, -0.2106865 , -2.81921261,  2.3080726 , -2.16656895,\n",
       "       -2.03787778,  0.5639928 , -3.50931538])"
      ]
     },
     "execution_count": 104,
     "metadata": {},
     "output_type": "execute_result"
    }
   ],
   "source": [
    "# Текущие коэффициенты\n",
    "lr.coef_"
   ]
  },
  {
   "cell_type": "code",
   "execution_count": 111,
   "metadata": {},
   "outputs": [
    {
     "name": "stdout",
     "output_type": "stream",
     "text": [
      "Train: 20.219032310493024\n",
      "Test: 28.501890807630843\n"
     ]
    },
    {
     "data": {
      "text/plain": [
       "array([-0.88643584,  0.84339886,  0.34140132,  0.08557826, -1.46879005,\n",
       "        3.44383186, -0.22434407, -2.66025749,  1.93535732, -1.80606628,\n",
       "       -1.9928976 ,  0.55865734, -3.43407108])"
      ]
     },
     "execution_count": 111,
     "metadata": {},
     "output_type": "execute_result"
    }
   ],
   "source": [
    "ridge = Ridge(5).fit(X_train_scaled, y_train)\n",
    "print (\"Train: {}\".format(mean_squared_error(y_train, ridge.predict(X_train_scaled))))\n",
    "print (\"Test: {}\".format(mean_squared_error(y_test, ridge.predict(X_test_scaled))))\n",
    "ridge.coef_"
   ]
  },
  {
   "cell_type": "code",
   "execution_count": 112,
   "metadata": {},
   "outputs": [],
   "source": [
    "# Чуть хуже, но видим, что коэффициенты значительно уменьшились"
   ]
  },
  {
   "cell_type": "code",
   "execution_count": 113,
   "metadata": {},
   "outputs": [
    {
     "name": "stdout",
     "output_type": "stream",
     "text": [
      "Train: 58.023199180694185\n",
      "Test: 59.01130233276887\n"
     ]
    },
    {
     "data": {
      "text/plain": [
       "array([-0.        ,  0.        , -0.        ,  0.        , -0.        ,\n",
       "        1.18360119, -0.        ,  0.        , -0.        , -0.        ,\n",
       "       -0.        ,  0.        , -1.15201046])"
      ]
     },
     "execution_count": 113,
     "metadata": {},
     "output_type": "execute_result"
    }
   ],
   "source": [
    "lasso = Lasso(5).fit(X_train_scaled, y_train)\n",
    "print (\"Train: {}\".format(mean_squared_error(y_train, lasso.predict(X_train_scaled))))\n",
    "print (\"Test: {}\".format(mean_squared_error(y_test, lasso.predict(X_test_scaled))))\n",
    "lasso.coef_"
   ]
  },
  {
   "cell_type": "code",
   "execution_count": 114,
   "metadata": {},
   "outputs": [],
   "source": [
    "# Лассо в свойственной себе манере сильно занулил все веса при признаках, которая эта модель посчитала наименее важными\n",
    "# Взглянем на важность признаков с точки зрения Lasso:"
   ]
  },
  {
   "cell_type": "code",
   "execution_count": 115,
   "metadata": {},
   "outputs": [
    {
     "data": {
      "image/png": "[encoded data removed]",
      "text/plain": [
       "<Figure size 720x504 with 1 Axes>"
      ]
     },
     "metadata": {
      "needs_background": "light"
     },
     "output_type": "display_data"
    }
   ],
   "source": [
    "plt.figure(figsize = (10, 7))\n",
    "plt.bar(data['feature_names'], abs(lasso.coef_));"
   ]
  },
  {
   "cell_type": "code",
   "execution_count": 116,
   "metadata": {},
   "outputs": [],
   "source": [
    "# Заметим, что эта модель посчитала важными очти те же признаки, что и деревья - лидеры RM и LSTAT"
   ]
  },
  {
   "cell_type": "code",
   "execution_count": 117,
   "metadata": {},
   "outputs": [
    {
     "data": {
      "image/png": "[encoded data removed]",
      "text/plain": [
       "<Figure size 720x504 with 1 Axes>"
      ]
     },
     "metadata": {
      "needs_background": "light"
     },
     "output_type": "display_data"
    }
   ],
   "source": [
    "plt.figure(figsize = (10, 7))\n",
    "plt.bar(data['feature_names'], abs(ridge.coef_));"
   ]
  },
  {
   "cell_type": "code",
   "execution_count": 118,
   "metadata": {},
   "outputs": [],
   "source": [
    "# А вот Ridge не такой агрессивный, но лидеры те же"
   ]
  },
  {
   "cell_type": "code",
   "execution_count": 119,
   "metadata": {},
   "outputs": [
    {
     "name": "stderr",
     "output_type": "stream",
     "text": [
      "C:\\Users\\73F5~1\\AppData\\Local\\Temp/ipykernel_13464/2017180419.py:8: UserWarning: With alpha=0, this algorithm does not converge well. You are advised to use the LinearRegression estimator\n",
      "  lasso = Lasso(a).fit(X_train, y_train)\n",
      "C:\\Users\\Public\\Anaconda3\\lib\\site-packages\\sklearn\\linear_model\\_coordinate_descent.py:530: UserWarning: Coordinate descent with no regularization may lead to unexpected results and is discouraged.\n",
      "  model = cd_fast.enet_coordinate_descent(\n",
      "C:\\Users\\Public\\Anaconda3\\lib\\site-packages\\sklearn\\linear_model\\_coordinate_descent.py:530: ConvergenceWarning: Objective did not converge. You might want to increase the number of iterations. Duality gap: 3572.6275852575523, tolerance: 3.0368595169491526\n",
      "  model = cd_fast.enet_coordinate_descent(\n"
     ]
    },
    {
     "data": {
      "image/png": "[encoded data removed]",
      "text/plain": [
       "<Figure size 432x288 with 1 Axes>"
      ]
     },
     "metadata": {
      "needs_background": "light"
     },
     "output_type": "display_data"
    }
   ],
   "source": [
    "alpha = [0, 0.1, 1, 10, 100, 200]\n",
    "ridge_graph = []\n",
    "lasso_graph = []\n",
    "for a in alpha:\n",
    "    ridge = Ridge(a).fit(X_train, y_train)\n",
    "    norm1 = np.linalg.norm(ridge.coef_)\n",
    "    ridge_graph.append(norm1)\n",
    "    lasso = Lasso(a).fit(X_train, y_train)\n",
    "    norm2 = np.linalg.norm(lasso.coef_)\n",
    "    lasso_graph.append(norm2)\n",
    "\n",
    "x = np.array(alpha)\n",
    "y = np.array(ridge_graph)\n",
    "z = np.array(lasso_graph)\n",
    "\n",
    "plt.plot(x, y, 'c', linestyle = '-')\n",
    "plt.plot(x, z, 'magenta', linestyle = '-')\n",
    "plt.xlabel(\"Alpha\")\n",
    "plt.ylabel(\"Norm\") \n",
    "plt.title(\"Plots of Ridge and Lasso norms\")\n",
    "plt.legend(['Ridge', 'Lasso'])\n",
    "plt.grid()\n",
    "plt.show()"
   ]
  },
  {
   "cell_type": "code",
   "execution_count": 120,
   "metadata": {},
   "outputs": [],
   "source": [
    "# из графика видно, что Lasso агрессивнее уменьшает веса"
   ]
  },
  {
   "cell_type": "code",
   "execution_count": 121,
   "metadata": {},
   "outputs": [],
   "source": [
    "# для Lasso-регрессии свойсвенна следующая картина: коэффициенты пропорциональны важности соответствующих признаков. Тогда\n",
    "# менее значимые переменные будут давать маленький вклад, так как коэффициенты при них будут почти нулевыми, а более значимые\n",
    "# признаки будут существенно влиять на предсказание. Как итог у нас будет некий отбор признаков."
   ]
  },
  {
   "cell_type": "code",
   "execution_count": 122,
   "metadata": {},
   "outputs": [
    {
     "name": "stdout",
     "output_type": "stream",
     "text": [
      "[2.e+02 1.e+02 1.e+01 1.e+00 1.e-01]\n"
     ]
    },
    {
     "data": {
      "text/plain": [
       "array([[81.14515081, 96.08624275, 94.32636302, 87.23331912, 72.08416428],\n",
       "       [81.14515081, 96.08624275, 94.32636302, 87.23331912, 72.08416428],\n",
       "       [81.14515081, 96.08624275, 94.32636302, 87.23331912, 72.08416428],\n",
       "       [21.50399272, 32.99630906, 23.03885629, 32.01179017, 22.68778929],\n",
       "       [16.37767041, 29.37361658, 19.33025365, 29.51333935, 21.072129  ]])"
      ]
     },
     "execution_count": 122,
     "metadata": {},
     "output_type": "execute_result"
    }
   ],
   "source": [
    "from sklearn.linear_model import LassoCV\n",
    "\n",
    "reg = LassoCV(cv=5, alphas = [0.1, 1, 10, 100, 200]).fit(X_train_scaled, y_train)\n",
    "print(reg.alphas_) # в обратном порядке вывелось\n",
    "reg.mse_path_"
   ]
  },
  {
   "cell_type": "code",
   "execution_count": 123,
   "metadata": {},
   "outputs": [
    {
     "data": {
      "text/plain": [
       "array([86.175048  , 86.175048  , 86.175048  , 26.44774751, 23.1334018 ])"
      ]
     },
     "execution_count": 123,
     "metadata": {},
     "output_type": "execute_result"
    }
   ],
   "source": [
    "np.array(list(map(lambda x: np.mean(x), reg.mse_path_)))"
   ]
  },
  {
   "cell_type": "code",
   "execution_count": 124,
   "metadata": {},
   "outputs": [],
   "source": [
    "# итого оптимальный вариант - последний, то есть для alpha = 0.1"
   ]
  },
  {
   "cell_type": "code",
   "execution_count": 125,
   "metadata": {},
   "outputs": [
    {
     "name": "stdout",
     "output_type": "stream",
     "text": [
      "Train: 25.30291492027384\n",
      "Test: 35.51098770160136\n"
     ]
    },
    {
     "data": {
      "text/plain": [
       "array([-0.00000000e+00,  0.00000000e+00, -0.00000000e+00,  0.00000000e+00,\n",
       "       -0.00000000e+00,  3.34690914e+00, -0.00000000e+00, -0.00000000e+00,\n",
       "       -0.00000000e+00, -1.76517845e-03, -1.37411953e+00,  0.00000000e+00,\n",
       "       -3.29454265e+00])"
      ]
     },
     "execution_count": 125,
     "metadata": {},
     "output_type": "execute_result"
    }
   ],
   "source": [
    "lasso = Lasso(1).fit(X_train_scaled,y_train)\n",
    "print (\"Train: {}\".format(mean_squared_error(y_train, lasso.predict(X_train_scaled))))\n",
    "print (\"Test: {}\".format(mean_squared_error(y_test, lasso.predict(X_test_scaled))))\n",
    "lasso.coef_"
   ]
  },
  {
   "cell_type": "code",
   "execution_count": 126,
   "metadata": {},
   "outputs": [],
   "source": [
    "# Вообще хуже, чем без регуляризации..."
   ]
  }
 ],
 "metadata": {
  "colab": {
   "provenance": []
  },
  "kernelspec": {
   "display_name": "Python 3 (ipykernel)",
   "language": "python",
   "name": "python3"
  },
  "language_info": {
   "codemirror_mode": {
    "name": "ipython",
    "version": 3
   },
   "file_extension": ".py",
   "mimetype": "text/x-python",
   "name": "python",
   "nbconvert_exporter": "python",
   "pygments_lexer": "ipython3",
   "version": "3.9.7"
  }
 },
 "nbformat": 4,
 "nbformat_minor": 1
}
